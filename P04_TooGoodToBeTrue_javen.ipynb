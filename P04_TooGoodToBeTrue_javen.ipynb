{
 "cells": [
  {
   "attachments": {
    "IIT_original.png": {
     "image/png": "[encoded data removed]"
    }
   },
   "cell_type": "markdown",
   "metadata": {},
   "source": [
    "![IIT_original.png](attachment:IIT_original.png)\n",
    "## <center>  Machine Learning for Decision Making (CDA2C05)</center>\n",
    "### <center>  Practical 4 : Too Good To be True </center>"
   ]
  },
  {
   "cell_type": "markdown",
   "metadata": {},
   "source": [
    "### <font color=blue> Gentle Instructions: </font>\n",
    "- The empty code cells are for you to experiment your codes. Feel free to add more cells.\n",
    "- Replace <font color=\"Purple\"><b> ? </font></b> with correct syntax and use short cut key <i> Shift + Enter </i> to execute your cells.\n",
    "- Double click on markdown cells to enter your remarks, observations, best practices, etc. Execute your markdown cells to view them properly. "
   ]
  },
  {
   "cell_type": "markdown",
   "metadata": {},
   "source": [
    "## 1. Target Leakages\n",
    "Target leakage is a common issue in machine learning that occur when you train your model on information that would NOT be available when you use the model during production to score the newly collected data. Taking target leakage(s) as your inputs to the machine learning model will give rise to overly optimistic performance estimates. \n",
    "\n",
    "Target leakage can also occur when the features used for training the model are derived from the target variable.\n",
    "\n",
    "In DSES we asked ourselves these questions to check:\n",
    "- ‘Chick & Egg’ problem- is the info avail before making the prediction?\n",
    "- ‘Like father like son’ problem- are you using raw attributes to predict derived attributes?\n",
    "- ‘Give away’ problem- are you including attribute that doesn’t even need other attributes to make prediction? \n"
   ]
  },
  {
   "cell_type": "markdown",
   "metadata": {},
   "source": [
    "<div class=\"alert alert-block alert-info\">\n",
    "<b>We will run through four basic computational methods of detecting POSSIBLE target leakages. <br> \n",
    "    <i>Note: To confirm whether an attribute still requires domain knowledge- </b></i>\n",
    "    \n",
    "    Is this information available during scoring? Already remove them before running through the computational methods. \n",
    "</div>"
   ]
  },
  {
   "cell_type": "markdown",
   "metadata": {},
   "source": [
    "<div class=\"alert alert-block alert-warning\">\n",
    "<b>We will use an updated dataset on laptop prices. \"Price_euros\" is still your target. There are of course target leakages present in the dataset, can you find them out? Let's start! </b>\n",
    "    \n",
    "    Please download a new dataset from LMS.\n",
    "</div>"
   ]
  },
  {
   "cell_type": "markdown",
   "metadata": {},
   "source": [
    "### Getting everything ready first"
   ]
  },
  {
   "cell_type": "code",
   "execution_count": 1,
   "metadata": {},
   "outputs": [],
   "source": [
    "#load all the necessary libraries\n",
    "import pandas as pd\n",
    "import numpy as np\n",
    "import seaborn as sns\n",
    "import matplotlib.pyplot as plt\n",
    "import sklearn\n",
    "from sklearn.model_selection import train_test_split\n",
    "from sklearn.metrics import mean_squared_error, mean_absolute_error, r2_score , mean_absolute_percentage_error\n",
    "from sklearn import tree\n",
    "\n",
    "randomstate=123456"
   ]
  },
  {
   "cell_type": "code",
   "execution_count": 2,
   "metadata": {},
   "outputs": [],
   "source": [
    "#load the dataset as df and perform basic EDA\n",
    "df = pd.read_excel(\"Laptop Prices 2.xlsx\")"
   ]
  },
  {
   "cell_type": "code",
   "execution_count": 3,
   "metadata": {},
   "outputs": [
    {
     "name": "stdout",
     "output_type": "stream",
     "text": [
      "<class 'pandas.core.frame.DataFrame'>\n",
      "RangeIndex: 1080 entries, 0 to 1079\n",
      "Data columns (total 22 columns):\n",
      " #   Column            Non-Null Count  Dtype  \n",
      "---  ------            --------------  -----  \n",
      " 0   ID                1080 non-null   int64  \n",
      " 1   Company           1080 non-null   object \n",
      " 2   Product           1080 non-null   object \n",
      " 3   Column2           1080 non-null   float64\n",
      " 4   Column3           1080 non-null   float64\n",
      " 5   TypeName          1080 non-null   object \n",
      " 6   Inches            1080 non-null   float64\n",
      " 7   ScreenResolution  1080 non-null   object \n",
      " 8   Ram (GB)          1080 non-null   int64  \n",
      " 9   Memory            1080 non-null   object \n",
      " 10  GPU1              1080 non-null   object \n",
      " 11  GPU2              1080 non-null   object \n",
      " 12  GPU3              41 non-null     object \n",
      " 13  OpSys             1080 non-null   object \n",
      " 14  Weight (Kg)       1080 non-null   float64\n",
      " 15  CPU               1080 non-null   object \n",
      " 16  CPU2              1080 non-null   object \n",
      " 17  CPU3              1080 non-null   object \n",
      " 18  CPU4              1080 non-null   object \n",
      " 19  CPU5              1080 non-null   object \n",
      " 20  Price_euros       1080 non-null   float64\n",
      " 21  Extend Warranty   1080 non-null   int64  \n",
      "dtypes: float64(5), int64(3), object(14)\n",
      "memory usage: 185.8+ KB\n"
     ]
    }
   ],
   "source": [
    "df.info()"
   ]
  },
  {
   "cell_type": "code",
   "execution_count": 4,
   "metadata": {},
   "outputs": [
    {
     "data": {
      "text/html": [
       "<div>\n",
       "<style scoped>\n",
       "    .dataframe tbody tr th:only-of-type {\n",
       "        vertical-align: middle;\n",
       "    }\n",
       "\n",
       "    .dataframe tbody tr th {\n",
       "        vertical-align: top;\n",
       "    }\n",
       "\n",
       "    .dataframe thead th {\n",
       "        text-align: right;\n",
       "    }\n",
       "</style>\n",
       "<table border=\"1\" class=\"dataframe\">\n",
       "  <thead>\n",
       "    <tr style=\"text-align: right;\">\n",
       "      <th></th>\n",
       "      <th>ID</th>\n",
       "      <th>Company</th>\n",
       "      <th>Product</th>\n",
       "      <th>Column2</th>\n",
       "      <th>Column3</th>\n",
       "      <th>TypeName</th>\n",
       "      <th>Inches</th>\n",
       "      <th>ScreenResolution</th>\n",
       "      <th>Ram (GB)</th>\n",
       "      <th>Memory</th>\n",
       "      <th>...</th>\n",
       "      <th>GPU3</th>\n",
       "      <th>OpSys</th>\n",
       "      <th>Weight (Kg)</th>\n",
       "      <th>CPU</th>\n",
       "      <th>CPU2</th>\n",
       "      <th>CPU3</th>\n",
       "      <th>CPU4</th>\n",
       "      <th>CPU5</th>\n",
       "      <th>Price_euros</th>\n",
       "      <th>Extend Warranty</th>\n",
       "    </tr>\n",
       "  </thead>\n",
       "  <tbody>\n",
       "    <tr>\n",
       "      <th>0</th>\n",
       "      <td>6</td>\n",
       "      <td>Acer</td>\n",
       "      <td>Aspire 3</td>\n",
       "      <td>20.000</td>\n",
       "      <td>380.000</td>\n",
       "      <td>Notebook</td>\n",
       "      <td>15.6</td>\n",
       "      <td>1366x768</td>\n",
       "      <td>4</td>\n",
       "      <td>500GB HDD</td>\n",
       "      <td>...</td>\n",
       "      <td>R5</td>\n",
       "      <td>Windows 10</td>\n",
       "      <td>2.1</td>\n",
       "      <td>AMD</td>\n",
       "      <td>A9-Series</td>\n",
       "      <td>9420</td>\n",
       "      <td>3GHz</td>\n",
       "      <td></td>\n",
       "      <td>400.0</td>\n",
       "      <td>0</td>\n",
       "    </tr>\n",
       "    <tr>\n",
       "      <th>1</th>\n",
       "      <td>9</td>\n",
       "      <td>Asus</td>\n",
       "      <td>ZenBook UX430UN</td>\n",
       "      <td>149.500</td>\n",
       "      <td>1345.500</td>\n",
       "      <td>Ultrabook</td>\n",
       "      <td>14.0</td>\n",
       "      <td>Full HD 1920x1080</td>\n",
       "      <td>16</td>\n",
       "      <td>512GB SSD</td>\n",
       "      <td>...</td>\n",
       "      <td>MX150</td>\n",
       "      <td>Windows 10</td>\n",
       "      <td>1.3</td>\n",
       "      <td>Intel</td>\n",
       "      <td>Core</td>\n",
       "      <td>i7</td>\n",
       "      <td>8550U</td>\n",
       "      <td>1.8GHz</td>\n",
       "      <td>1495.0</td>\n",
       "      <td>1</td>\n",
       "    </tr>\n",
       "    <tr>\n",
       "      <th>2</th>\n",
       "      <td>10</td>\n",
       "      <td>Acer</td>\n",
       "      <td>Swift 3</td>\n",
       "      <td>77.000</td>\n",
       "      <td>693.000</td>\n",
       "      <td>Ultrabook</td>\n",
       "      <td>14.0</td>\n",
       "      <td>IPS Panel Full HD 1920x1080</td>\n",
       "      <td>8</td>\n",
       "      <td>256GB SSD</td>\n",
       "      <td>...</td>\n",
       "      <td>Graphics 620</td>\n",
       "      <td>Windows 10</td>\n",
       "      <td>1.6</td>\n",
       "      <td>Intel</td>\n",
       "      <td>Core</td>\n",
       "      <td>i5</td>\n",
       "      <td>8250U</td>\n",
       "      <td>1.6GHz</td>\n",
       "      <td>770.0</td>\n",
       "      <td>1</td>\n",
       "    </tr>\n",
       "    <tr>\n",
       "      <th>3</th>\n",
       "      <td>14</td>\n",
       "      <td>Dell</td>\n",
       "      <td>Inspiron 3567</td>\n",
       "      <td>24.945</td>\n",
       "      <td>473.955</td>\n",
       "      <td>Notebook</td>\n",
       "      <td>15.6</td>\n",
       "      <td>Full HD 1920x1080</td>\n",
       "      <td>4</td>\n",
       "      <td>256GB SSD</td>\n",
       "      <td>...</td>\n",
       "      <td>R5 M430</td>\n",
       "      <td>Windows 10</td>\n",
       "      <td>2.2</td>\n",
       "      <td>Intel</td>\n",
       "      <td>Core</td>\n",
       "      <td>i3</td>\n",
       "      <td>6006U</td>\n",
       "      <td>2GHz</td>\n",
       "      <td>498.9</td>\n",
       "      <td>0</td>\n",
       "    </tr>\n",
       "    <tr>\n",
       "      <th>4</th>\n",
       "      <td>17</td>\n",
       "      <td>Dell</td>\n",
       "      <td>Inspiron 3567</td>\n",
       "      <td>74.500</td>\n",
       "      <td>670.500</td>\n",
       "      <td>Notebook</td>\n",
       "      <td>15.6</td>\n",
       "      <td>Full HD 1920x1080</td>\n",
       "      <td>8</td>\n",
       "      <td>256GB SSD</td>\n",
       "      <td>...</td>\n",
       "      <td>R5 M430</td>\n",
       "      <td>Windows 10</td>\n",
       "      <td>2.2</td>\n",
       "      <td>Intel</td>\n",
       "      <td>Core</td>\n",
       "      <td>i7</td>\n",
       "      <td>7500U</td>\n",
       "      <td>2.7GHz</td>\n",
       "      <td>745.0</td>\n",
       "      <td>0</td>\n",
       "    </tr>\n",
       "  </tbody>\n",
       "</table>\n",
       "<p>5 rows × 22 columns</p>\n",
       "</div>"
      ],
      "text/plain": [
       "   ID Company          Product  Column2   Column3   TypeName  Inches  \\\n",
       "0   6    Acer         Aspire 3   20.000   380.000   Notebook    15.6   \n",
       "1   9    Asus  ZenBook UX430UN  149.500  1345.500  Ultrabook    14.0   \n",
       "2  10    Acer          Swift 3   77.000   693.000  Ultrabook    14.0   \n",
       "3  14    Dell    Inspiron 3567   24.945   473.955   Notebook    15.6   \n",
       "4  17    Dell    Inspiron 3567   74.500   670.500   Notebook    15.6   \n",
       "\n",
       "              ScreenResolution  Ram (GB)     Memory  ...          GPU3  \\\n",
       "0                     1366x768         4  500GB HDD  ...           R5    \n",
       "1            Full HD 1920x1080        16  512GB SSD  ...        MX150    \n",
       "2  IPS Panel Full HD 1920x1080         8  256GB SSD  ...  Graphics 620   \n",
       "3            Full HD 1920x1080         4  256GB SSD  ...       R5 M430   \n",
       "4            Full HD 1920x1080         8  256GB SSD  ...       R5 M430   \n",
       "\n",
       "        OpSys Weight (Kg)    CPU       CPU2  CPU3   CPU4     CPU5 Price_euros  \\\n",
       "0  Windows 10         2.1    AMD  A9-Series  9420   3GHz                400.0   \n",
       "1  Windows 10         1.3  Intel       Core    i7  8550U  1.8GHz       1495.0   \n",
       "2  Windows 10         1.6  Intel       Core    i5  8250U  1.6GHz        770.0   \n",
       "3  Windows 10         2.2  Intel       Core    i3  6006U    2GHz        498.9   \n",
       "4  Windows 10         2.2  Intel       Core    i7  7500U  2.7GHz        745.0   \n",
       "\n",
       "  Extend Warranty  \n",
       "0               0  \n",
       "1               1  \n",
       "2               1  \n",
       "3               0  \n",
       "4               0  \n",
       "\n",
       "[5 rows x 22 columns]"
      ]
     },
     "execution_count": 4,
     "metadata": {},
     "output_type": "execute_result"
    }
   ],
   "source": [
    "df.head()"
   ]
  },
  {
   "cell_type": "markdown",
   "metadata": {},
   "source": [
    "<div class=\"alert alert-block alert-info\">\n",
    "<b>What is different?\n",
    "</div>"
   ]
  },
  {
   "cell_type": "markdown",
   "metadata": {},
   "source": [
    "Your observations:\n",
    "1. what is column 2 and 3\n",
    "2. The CPU names are split based on space\n",
    "3. The GPU names are split based on space\n",
    "4. CPU columns and GPU columns should be joined together before encoding"
   ]
  },
  {
   "cell_type": "markdown",
   "metadata": {},
   "source": [
    "### 1.1 Correlation \n",
    "Correlation analysis can be used to identify such leakages by measuring the strength of the relationship between each feature (attribute) and the target. If the strength is very strong, it may be a flag for target leakage.  \n",
    "\n",
    "But we have also learned that Pearson's correlation analysis can only be applied on a pair of numerical attributes, in this case a regression task (numerical target). \n",
    "\n",
    "> What about detecting nominal and ordinal features as leakages?\n",
    "> How about classification task?"
   ]
  },
  {
   "cell_type": "markdown",
   "metadata": {},
   "source": [
    "### Checklist for Regression\n",
    "- Find out which are the numerical attributes, which are the categorical ones.\n",
    "- Obtain Pearson's correlation coefficients between numerical attributes and the target.\n",
    "- Identify the attributes with strong to very strong positive coefficients.\n",
    "- Check using domain knowledge whether they are available before future scoring, or are they derived from target variable.\n",
    "- For categorical ones, apply other correlation analysis or statistical testing.    \n",
    "</div>"
   ]
  },
  {
   "cell_type": "markdown",
   "metadata": {},
   "source": [
    "<div class=\"alert alert-block alert-info\">\n",
    "<b>Discuss with your peers what are some other correlation analyses or statistical methods that can be used for such categorical data.</b>    \n",
    "    \n",
    "    Ordinal-Ratio? Nominal-Ratio? \n",
    "</div>"
   ]
  },
  {
   "cell_type": "markdown",
   "metadata": {},
   "source": [
    "Your take-aways:\n",
    "1. Nominal cannot use pearsons\n",
    "2. Pearson only for numerical categoricals"
   ]
  },
  {
   "cell_type": "markdown",
   "metadata": {},
   "source": [
    "#### 1.1.1 Pearson's Correlation"
   ]
  },
  {
   "cell_type": "code",
   "execution_count": 5,
   "metadata": {},
   "outputs": [
    {
     "data": {
      "text/html": [
       "<style type=\"text/css\">\n",
       "#T_edae9_row0_col0, #T_edae9_row1_col1, #T_edae9_row2_col2, #T_edae9_row2_col6, #T_edae9_row3_col3, #T_edae9_row4_col4, #T_edae9_row5_col5, #T_edae9_row6_col2, #T_edae9_row6_col6, #T_edae9_row7_col7 {\n",
       "  background-color: #08306b;\n",
       "  color: #f1f1f1;\n",
       "}\n",
       "#T_edae9_row0_col1, #T_edae9_row0_col2, #T_edae9_row0_col3, #T_edae9_row0_col4, #T_edae9_row0_col5, #T_edae9_row0_col6, #T_edae9_row3_col0, #T_edae9_row3_col7 {\n",
       "  background-color: #f7fbff;\n",
       "  color: #000000;\n",
       "}\n",
       "#T_edae9_row0_col7 {\n",
       "  background-color: #eff6fc;\n",
       "  color: #000000;\n",
       "}\n",
       "#T_edae9_row1_col0 {\n",
       "  background-color: #ddeaf7;\n",
       "  color: #000000;\n",
       "}\n",
       "#T_edae9_row1_col2, #T_edae9_row1_col6, #T_edae9_row2_col1, #T_edae9_row6_col1 {\n",
       "  background-color: #08316d;\n",
       "  color: #f1f1f1;\n",
       "}\n",
       "#T_edae9_row1_col3 {\n",
       "  background-color: #dbe9f6;\n",
       "  color: #000000;\n",
       "}\n",
       "#T_edae9_row1_col4 {\n",
       "  background-color: #2171b5;\n",
       "  color: #f1f1f1;\n",
       "}\n",
       "#T_edae9_row1_col5 {\n",
       "  background-color: #c9ddf0;\n",
       "  color: #000000;\n",
       "}\n",
       "#T_edae9_row1_col7 {\n",
       "  background-color: #2f7fbc;\n",
       "  color: #f1f1f1;\n",
       "}\n",
       "#T_edae9_row2_col0, #T_edae9_row6_col0 {\n",
       "  background-color: #dceaf6;\n",
       "  color: #000000;\n",
       "}\n",
       "#T_edae9_row2_col3, #T_edae9_row6_col3 {\n",
       "  background-color: #d9e8f5;\n",
       "  color: #000000;\n",
       "}\n",
       "#T_edae9_row2_col4, #T_edae9_row6_col4 {\n",
       "  background-color: #206fb4;\n",
       "  color: #f1f1f1;\n",
       "}\n",
       "#T_edae9_row2_col5 {\n",
       "  background-color: #c7dbef;\n",
       "  color: #000000;\n",
       "}\n",
       "#T_edae9_row2_col7 {\n",
       "  background-color: #3787c0;\n",
       "  color: #f1f1f1;\n",
       "}\n",
       "#T_edae9_row3_col1 {\n",
       "  background-color: #f5f9fe;\n",
       "  color: #000000;\n",
       "}\n",
       "#T_edae9_row3_col2, #T_edae9_row3_col6 {\n",
       "  background-color: #f4f9fe;\n",
       "  color: #000000;\n",
       "}\n",
       "#T_edae9_row3_col4 {\n",
       "  background-color: #c4daee;\n",
       "  color: #000000;\n",
       "}\n",
       "#T_edae9_row3_col5 {\n",
       "  background-color: #125da6;\n",
       "  color: #f1f1f1;\n",
       "}\n",
       "#T_edae9_row4_col0 {\n",
       "  background-color: #eaf3fb;\n",
       "  color: #000000;\n",
       "}\n",
       "#T_edae9_row4_col1 {\n",
       "  background-color: #2575b7;\n",
       "  color: #f1f1f1;\n",
       "}\n",
       "#T_edae9_row4_col2, #T_edae9_row4_col6 {\n",
       "  background-color: #2474b7;\n",
       "  color: #f1f1f1;\n",
       "}\n",
       "#T_edae9_row4_col3 {\n",
       "  background-color: #b5d4e9;\n",
       "  color: #000000;\n",
       "}\n",
       "#T_edae9_row4_col5 {\n",
       "  background-color: #92c4de;\n",
       "  color: #000000;\n",
       "}\n",
       "#T_edae9_row4_col7 {\n",
       "  background-color: #69add5;\n",
       "  color: #f1f1f1;\n",
       "}\n",
       "#T_edae9_row5_col0 {\n",
       "  background-color: #eaf2fb;\n",
       "  color: #000000;\n",
       "}\n",
       "#T_edae9_row5_col1 {\n",
       "  background-color: #d3e4f3;\n",
       "  color: #000000;\n",
       "}\n",
       "#T_edae9_row5_col2, #T_edae9_row5_col6 {\n",
       "  background-color: #d2e3f3;\n",
       "  color: #000000;\n",
       "}\n",
       "#T_edae9_row5_col3 {\n",
       "  background-color: #0f5aa3;\n",
       "  color: #f1f1f1;\n",
       "}\n",
       "#T_edae9_row5_col4 {\n",
       "  background-color: #91c3de;\n",
       "  color: #000000;\n",
       "}\n",
       "#T_edae9_row5_col7 {\n",
       "  background-color: #e7f1fa;\n",
       "  color: #000000;\n",
       "}\n",
       "#T_edae9_row6_col5 {\n",
       "  background-color: #c7dcef;\n",
       "  color: #000000;\n",
       "}\n",
       "#T_edae9_row6_col7, #T_edae9_row7_col1 {\n",
       "  background-color: #3686c0;\n",
       "  color: #f1f1f1;\n",
       "}\n",
       "#T_edae9_row7_col0 {\n",
       "  background-color: #e6f0f9;\n",
       "  color: #000000;\n",
       "}\n",
       "#T_edae9_row7_col2 {\n",
       "  background-color: #3f8fc5;\n",
       "  color: #f1f1f1;\n",
       "}\n",
       "#T_edae9_row7_col3 {\n",
       "  background-color: #eef5fc;\n",
       "  color: #000000;\n",
       "}\n",
       "#T_edae9_row7_col4 {\n",
       "  background-color: #6caed6;\n",
       "  color: #f1f1f1;\n",
       "}\n",
       "#T_edae9_row7_col5 {\n",
       "  background-color: #ebf3fb;\n",
       "  color: #000000;\n",
       "}\n",
       "#T_edae9_row7_col6 {\n",
       "  background-color: #3e8ec4;\n",
       "  color: #f1f1f1;\n",
       "}\n",
       "</style>\n",
       "<table id=\"T_edae9\">\n",
       "  <thead>\n",
       "    <tr>\n",
       "      <th class=\"blank level0\" >&nbsp;</th>\n",
       "      <th id=\"T_edae9_level0_col0\" class=\"col_heading level0 col0\" >ID</th>\n",
       "      <th id=\"T_edae9_level0_col1\" class=\"col_heading level0 col1\" >Column2</th>\n",
       "      <th id=\"T_edae9_level0_col2\" class=\"col_heading level0 col2\" >Column3</th>\n",
       "      <th id=\"T_edae9_level0_col3\" class=\"col_heading level0 col3\" >Inches</th>\n",
       "      <th id=\"T_edae9_level0_col4\" class=\"col_heading level0 col4\" >Ram (GB)</th>\n",
       "      <th id=\"T_edae9_level0_col5\" class=\"col_heading level0 col5\" >Weight (Kg)</th>\n",
       "      <th id=\"T_edae9_level0_col6\" class=\"col_heading level0 col6\" >Price_euros</th>\n",
       "      <th id=\"T_edae9_level0_col7\" class=\"col_heading level0 col7\" >Extend Warranty</th>\n",
       "    </tr>\n",
       "  </thead>\n",
       "  <tbody>\n",
       "    <tr>\n",
       "      <th id=\"T_edae9_level0_row0\" class=\"row_heading level0 row0\" >ID</th>\n",
       "      <td id=\"T_edae9_row0_col0\" class=\"data row0 col0\" >1.000000</td>\n",
       "      <td id=\"T_edae9_row0_col1\" class=\"data row0 col1\" >0.064098</td>\n",
       "      <td id=\"T_edae9_row0_col2\" class=\"data row0 col2\" >0.065437</td>\n",
       "      <td id=\"T_edae9_row0_col3\" class=\"data row0 col3\" >-0.077988</td>\n",
       "      <td id=\"T_edae9_row0_col4\" class=\"data row0 col4\" >-0.006830</td>\n",
       "      <td id=\"T_edae9_row0_col5\" class=\"data row0 col5\" >-0.003543</td>\n",
       "      <td id=\"T_edae9_row0_col6\" class=\"data row0 col6\" >0.065330</td>\n",
       "      <td id=\"T_edae9_row0_col7\" class=\"data row0 col7\" >0.015760</td>\n",
       "    </tr>\n",
       "    <tr>\n",
       "      <th id=\"T_edae9_level0_row1\" class=\"row_heading level0 row1\" >Column2</th>\n",
       "      <td id=\"T_edae9_row1_col0\" class=\"data row1 col0\" >0.064098</td>\n",
       "      <td id=\"T_edae9_row1_col1\" class=\"data row1 col1\" >1.000000</td>\n",
       "      <td id=\"T_edae9_row1_col2\" class=\"data row1 col2\" >0.994293</td>\n",
       "      <td id=\"T_edae9_row1_col3\" class=\"data row1 col3\" >0.075095</td>\n",
       "      <td id=\"T_edae9_row1_col4\" class=\"data row1 col4\" >0.748237</td>\n",
       "      <td id=\"T_edae9_row1_col5\" class=\"data row1 col5\" >0.232884</td>\n",
       "      <td id=\"T_edae9_row1_col6\" class=\"data row1 col6\" >0.995436</td>\n",
       "      <td id=\"T_edae9_row1_col7\" class=\"data row1 col7\" >0.691706</td>\n",
       "    </tr>\n",
       "    <tr>\n",
       "      <th id=\"T_edae9_level0_row2\" class=\"row_heading level0 row2\" >Column3</th>\n",
       "      <td id=\"T_edae9_row2_col0\" class=\"data row2 col0\" >0.065437</td>\n",
       "      <td id=\"T_edae9_row2_col1\" class=\"data row2 col1\" >0.994293</td>\n",
       "      <td id=\"T_edae9_row2_col2\" class=\"data row2 col2\" >1.000000</td>\n",
       "      <td id=\"T_edae9_row2_col3\" class=\"data row2 col3\" >0.083419</td>\n",
       "      <td id=\"T_edae9_row2_col4\" class=\"data row2 col4\" >0.752245</td>\n",
       "      <td id=\"T_edae9_row2_col5\" class=\"data row2 col5\" >0.244033</td>\n",
       "      <td id=\"T_edae9_row2_col6\" class=\"data row2 col6\" >0.999936</td>\n",
       "      <td id=\"T_edae9_row2_col7\" class=\"data row2 col7\" >0.658635</td>\n",
       "    </tr>\n",
       "    <tr>\n",
       "      <th id=\"T_edae9_level0_row3\" class=\"row_heading level0 row3\" >Inches</th>\n",
       "      <td id=\"T_edae9_row3_col0\" class=\"data row3 col0\" >-0.077988</td>\n",
       "      <td id=\"T_edae9_row3_col1\" class=\"data row3 col1\" >0.075095</td>\n",
       "      <td id=\"T_edae9_row3_col2\" class=\"data row3 col2\" >0.083419</td>\n",
       "      <td id=\"T_edae9_row3_col3\" class=\"data row3 col3\" >1.000000</td>\n",
       "      <td id=\"T_edae9_row3_col4\" class=\"data row3 col4\" >0.249754</td>\n",
       "      <td id=\"T_edae9_row3_col5\" class=\"data row3 col5\" >0.824515</td>\n",
       "      <td id=\"T_edae9_row3_col6\" class=\"data row3 col6\" >0.082581</td>\n",
       "      <td id=\"T_edae9_row3_col7\" class=\"data row3 col7\" >-0.024285</td>\n",
       "    </tr>\n",
       "    <tr>\n",
       "      <th id=\"T_edae9_level0_row4\" class=\"row_heading level0 row4\" >Ram (GB)</th>\n",
       "      <td id=\"T_edae9_row4_col0\" class=\"data row4 col0\" >-0.006830</td>\n",
       "      <td id=\"T_edae9_row4_col1\" class=\"data row4 col1\" >0.748237</td>\n",
       "      <td id=\"T_edae9_row4_col2\" class=\"data row4 col2\" >0.752245</td>\n",
       "      <td id=\"T_edae9_row4_col3\" class=\"data row4 col3\" >0.249754</td>\n",
       "      <td id=\"T_edae9_row4_col4\" class=\"data row4 col4\" >1.000000</td>\n",
       "      <td id=\"T_edae9_row4_col5\" class=\"data row4 col5\" >0.403065</td>\n",
       "      <td id=\"T_edae9_row4_col6\" class=\"data row4 col6\" >0.752227</td>\n",
       "      <td id=\"T_edae9_row4_col7\" class=\"data row4 col7\" >0.494694</td>\n",
       "    </tr>\n",
       "    <tr>\n",
       "      <th id=\"T_edae9_level0_row5\" class=\"row_heading level0 row5\" >Weight (Kg)</th>\n",
       "      <td id=\"T_edae9_row5_col0\" class=\"data row5 col0\" >-0.003543</td>\n",
       "      <td id=\"T_edae9_row5_col1\" class=\"data row5 col1\" >0.232884</td>\n",
       "      <td id=\"T_edae9_row5_col2\" class=\"data row5 col2\" >0.244033</td>\n",
       "      <td id=\"T_edae9_row5_col3\" class=\"data row5 col3\" >0.824515</td>\n",
       "      <td id=\"T_edae9_row5_col4\" class=\"data row5 col4\" >0.403065</td>\n",
       "      <td id=\"T_edae9_row5_col5\" class=\"data row5 col5\" >1.000000</td>\n",
       "      <td id=\"T_edae9_row5_col6\" class=\"data row5 col6\" >0.242982</td>\n",
       "      <td id=\"T_edae9_row5_col7\" class=\"data row5 col7\" >0.058146</td>\n",
       "    </tr>\n",
       "    <tr>\n",
       "      <th id=\"T_edae9_level0_row6\" class=\"row_heading level0 row6\" >Price_euros</th>\n",
       "      <td id=\"T_edae9_row6_col0\" class=\"data row6 col0\" >0.065330</td>\n",
       "      <td id=\"T_edae9_row6_col1\" class=\"data row6 col1\" >0.995436</td>\n",
       "      <td id=\"T_edae9_row6_col2\" class=\"data row6 col2\" >0.999936</td>\n",
       "      <td id=\"T_edae9_row6_col3\" class=\"data row6 col3\" >0.082581</td>\n",
       "      <td id=\"T_edae9_row6_col4\" class=\"data row6 col4\" >0.752227</td>\n",
       "      <td id=\"T_edae9_row6_col5\" class=\"data row6 col5\" >0.242982</td>\n",
       "      <td id=\"T_edae9_row6_col6\" class=\"data row6 col6\" >1.000000</td>\n",
       "      <td id=\"T_edae9_row6_col7\" class=\"data row6 col7\" >0.662498</td>\n",
       "    </tr>\n",
       "    <tr>\n",
       "      <th id=\"T_edae9_level0_row7\" class=\"row_heading level0 row7\" >Extend Warranty</th>\n",
       "      <td id=\"T_edae9_row7_col0\" class=\"data row7 col0\" >0.015760</td>\n",
       "      <td id=\"T_edae9_row7_col1\" class=\"data row7 col1\" >0.691706</td>\n",
       "      <td id=\"T_edae9_row7_col2\" class=\"data row7 col2\" >0.658635</td>\n",
       "      <td id=\"T_edae9_row7_col3\" class=\"data row7 col3\" >-0.024285</td>\n",
       "      <td id=\"T_edae9_row7_col4\" class=\"data row7 col4\" >0.494694</td>\n",
       "      <td id=\"T_edae9_row7_col5\" class=\"data row7 col5\" >0.058146</td>\n",
       "      <td id=\"T_edae9_row7_col6\" class=\"data row7 col6\" >0.662498</td>\n",
       "      <td id=\"T_edae9_row7_col7\" class=\"data row7 col7\" >1.000000</td>\n",
       "    </tr>\n",
       "  </tbody>\n",
       "</table>\n"
      ],
      "text/plain": [
       "<pandas.io.formats.style.Styler at 0x2641c5b9640>"
      ]
     },
     "execution_count": 5,
     "metadata": {},
     "output_type": "execute_result"
    }
   ],
   "source": [
    "corr_mat=df.corr()\n",
    "corr_mat.style.background_gradient(cmap='Blues')"
   ]
  },
  {
   "cell_type": "markdown",
   "metadata": {},
   "source": [
    "<div class=\"alert alert-block alert-info\">\n",
    "<b>What do you observe?\n",
    "</div>"
   ]
  },
  {
   "cell_type": "markdown",
   "metadata": {},
   "source": [
    "Your observations:\n",
    "1. Column 2 and 3 have very strong correlarion with many columns\n",
    "2. Ram is good predictor for euros"
   ]
  },
  {
   "cell_type": "markdown",
   "metadata": {},
   "source": [
    "#### 1.1.2 ?? Correlation\n",
    "Your turn now to try out other statistical methods."
   ]
  },
  {
   "cell_type": "code",
   "execution_count": 6,
   "metadata": {},
   "outputs": [],
   "source": [
    "import scipy.stats as stats\n",
    "from scipy.stats import chi2_contingency, f_oneway\n",
    "import itertools\n",
    "from itertools import chain\n",
    "\n",
    "df_obj = df.select_dtypes(include=[object])\n",
    "target = df['Price_euros']\n",
    "new_df = pd.concat([df_obj, target], axis=1)"
   ]
  },
  {
   "cell_type": "code",
   "execution_count": 7,
   "metadata": {},
   "outputs": [
    {
     "name": "stdout",
     "output_type": "stream",
     "text": [
      "ANOVA FOR Company: p-value =  0.000000000000\n",
      "ANOVA FOR Product: p-value =  0.000000000000\n",
      "ANOVA FOR TypeName: p-value =  0.000000000000\n",
      "ANOVA FOR ScreenResolution: p-value =  0.000000000000\n",
      "ANOVA FOR Memory: p-value =  0.000000000000\n",
      "ANOVA FOR GPU1: p-value =  0.000000000000\n",
      "ANOVA FOR GPU2: p-value =  0.000000000000\n",
      "ANOVA FOR GPU3: p-value =  0.004789006106\n",
      "ANOVA FOR OpSys: p-value =  0.632307742694\n",
      "ANOVA FOR CPU: p-value =  0.000000000004\n",
      "ANOVA FOR CPU2: p-value =  0.000000000000\n",
      "ANOVA FOR CPU3: p-value =  0.000000000000\n",
      "ANOVA FOR CPU4: p-value =  0.000000000000\n",
      "ANOVA FOR CPU5: p-value =  0.000000000000\n",
      "ANOVA FOR Price_euros: p-value =  0.000000000000\n"
     ]
    },
    {
     "name": "stderr",
     "output_type": "stream",
     "text": [
      "C:\\Users\\javen\\anaconda3\\lib\\site-packages\\scipy\\stats\\stats.py:3650: F_onewayConstantInputWarning: Each of the input arrays is constant;the F statistic is not defined or infinite\n",
      "  warnings.warn(F_onewayConstantInputWarning())\n"
     ]
    }
   ],
   "source": [
    "for col in new_df.columns:\n",
    "    groups = []\n",
    "    \n",
    "    # for current col, check its relationship with target\n",
    "    for category, group_df in new_df.groupby(col):\n",
    "        groups.append(group_df['Price_euros'])\n",
    "        \n",
    "    # extracting p value from oneway ANOVA by passing all categorical columns\n",
    "    f_value, p_value = f_oneway(*groups)\n",
    "    print(f\"ANOVA FOR {col}: p-value = {p_value: .12f}\")"
   ]
  },
  {
   "cell_type": "markdown",
   "metadata": {},
   "source": [
    "<div class=\"alert alert-block alert-info\">\n",
    "<b>Is there any signification association between the categorical attributes with the target? \n",
    "</div>"
   ]
  },
  {
   "cell_type": "markdown",
   "metadata": {},
   "source": [
    "Your observations:\n",
    "1.  Null hypothesis is features are not significantly related to target. all column will p value below 0.05 are potential features as null hypothesis is rejected. This means these columns are useful as features as they are statistically significant to target.\n",
    "2. OpsSys is not significantly related to target and should not be considered as a predictor."
   ]
  },
  {
   "cell_type": "markdown",
   "metadata": {},
   "source": [
    "<div class=\"alert alert-block alert-info\">\n",
    "<b>Modify the following checklist for Classification task\n",
    "</div>"
   ]
  },
  {
   "cell_type": "markdown",
   "metadata": {},
   "source": [
    "### Checklist for Classification\n",
    "- Find out which are the numerical attributes, which are the categorical ones.\n",
    "- Perform correlation test between numerical attributes and the <b><font color='red'> categorical </b> target.\n",
    "- Identify the attributes with significant (low) p-values.\n",
    "- Check using domain knowledge whether they are available before future scoring, or are they derived from target variable.\n",
    "- For categorical ones, apply encoding.    \n",
    "</div>"
   ]
  },
  {
   "cell_type": "markdown",
   "metadata": {},
   "source": [
    "<div class=\"alert alert-block alert-warning\">\n",
    "<b>Your tutor may request to apply the above on a new df- the Boston Housing Price\n",
    "</div>"
   ]
  },
  {
   "cell_type": "markdown",
   "metadata": {},
   "source": [
    "### 1.2 Feature Importance\n",
    "There are two main methods to calculate feature importances. If a feature (attribute) is ranked very highly, it means that this feature is very impactful to the model outcome (prediction). \n",
    "- <b>Method 1</b>: Tree-based feature importance. Based on how much each feature reduces the impurity of the decision tree. Features that reduce impurity the most are considered to be more important. <br>\n",
    "i. Low impurity means the decision at the node leads to more samples of a particular class (for classification) or lower e.g. MSE (for regression)\n",
    "- <b>Method 2</b>: Permutation importance. "
   ]
  },
  {
   "cell_type": "markdown",
   "metadata": {},
   "source": [
    "<div class=\"alert alert-block alert-info\">\n",
    "<b>Discuss with your peers the pros and cons of these two methods</b>    \n",
    "    \n",
    "</div>"
   ]
  },
  {
   "cell_type": "markdown",
   "metadata": {},
   "source": [
    "Your take-aways:\n",
    "1. Feature importance is good for understanding which feature affects prediction.\n",
    "2. Permutation of which feature gets evaluated first is also importance as a meaningful split at the start would mean lesser work further down. "
   ]
  },
  {
   "cell_type": "markdown",
   "metadata": {},
   "source": [
    "#### 1.2.1 Tree-based Feature Importance\n",
    "We need to build tree-based model before we can calculate the feature importances for these input features. "
   ]
  },
  {
   "cell_type": "markdown",
   "metadata": {},
   "source": [
    "<div class=\"alert alert-block alert-warning\">\n",
    "<b>Still working on the same df- Laptop Prices 2. </b>\n",
    "    \n",
    "    Build a DTR\n",
    "</div>"
   ]
  },
  {
   "cell_type": "code",
   "execution_count": 8,
   "metadata": {},
   "outputs": [
    {
     "name": "stdout",
     "output_type": "stream",
     "text": [
      "<class 'pandas.core.frame.DataFrame'>\n",
      "RangeIndex: 506 entries, 0 to 505\n",
      "Data columns (total 16 columns):\n",
      " #   Column   Non-Null Count  Dtype  \n",
      "---  ------   --------------  -----  \n",
      " 0   S/N      506 non-null    int64  \n",
      " 1   CRIM     506 non-null    float64\n",
      " 2   ZN       506 non-null    float64\n",
      " 3   INDUS    506 non-null    float64\n",
      " 4   CHAS     506 non-null    object \n",
      " 5   NOX      506 non-null    float64\n",
      " 6   RM       506 non-null    float64\n",
      " 7   AGE      506 non-null    float64\n",
      " 8   DIS      506 non-null    float64\n",
      " 9   RAD      506 non-null    int64  \n",
      " 10  TAX      506 non-null    int64  \n",
      " 11  PTRATIO  506 non-null    float64\n",
      " 12  B        506 non-null    float64\n",
      " 13  LSTAT    506 non-null    float64\n",
      " 14  MEDV     506 non-null    float64\n",
      " 15  TARGET   506 non-null    object \n",
      "dtypes: float64(11), int64(3), object(2)\n",
      "memory usage: 63.4+ KB\n"
     ]
    }
   ],
   "source": [
    "#Create two different dfs- one that contain purely categorical data, the other only numerical data\n",
    "df1 = pd.read_csv('BostonHousingPrice.csv')\n",
    "df1['CHAS'] = df1['CHAS'].astype(str)\n",
    "df1['TARGET'] = df1['TARGET'].astype(str)\n",
    "df1.info()"
   ]
  },
  {
   "cell_type": "code",
   "execution_count": 9,
   "metadata": {},
   "outputs": [
    {
     "name": "stdout",
     "output_type": "stream",
     "text": [
      "S/N : 0.479096677584102\n",
      "CRIM : 0.4818429523735237\n",
      "ZN : 5.4956330341571345e-05\n",
      "INDUS : 4.2544927702978824e-16\n",
      "NOX : 3.017328014699394e-27\n",
      "RM : 0.39055572455116905\n",
      "AGE : 0.08861941090757953\n",
      "DIS : 0.009245141809220713\n",
      "RAD : 4.30431158914966e-20\n",
      "TAX : 6.698551476013831e-15\n",
      "PTRATIO : 5.358435416112057e-19\n",
      "B : 0.22452096863217313\n",
      "LSTAT : 0.37446541442710213\n",
      "MEDV : 3.820629965446739e-23\n"
     ]
    }
   ],
   "source": [
    "#Perform features encoding\n",
    "X = df1.drop('TARGET', axis=1)\n",
    "y = df1['TARGET']\n",
    "df_num = X.select_dtypes(exclude='object').columns.tolist()\n",
    "chi_dict = {}\n",
    "\n",
    "for col in df_num:\n",
    "    obs = pd.crosstab(X[col], y)\n",
    "    chi, p, dof, expected = stats.chi2_contingency(obs)\n",
    "    chi_dict[col] = p # insert the col as col name and p as value\n",
    "    \n",
    "for key, value in chi_dict.items():\n",
    "    print(key, ':', value)"
   ]
  },
  {
   "cell_type": "code",
   "execution_count": 10,
   "metadata": {},
   "outputs": [],
   "source": [
    "#Set target and inputs\n",
    "df_obj = df.select_dtypes(include=[object])\n",
    "df_num = df.select_dtypes(exclude=[object]).drop(columns=['Price_euros', 'ID'])"
   ]
  },
  {
   "cell_type": "code",
   "execution_count": 11,
   "metadata": {},
   "outputs": [],
   "source": [
    "#Data encode\n",
    "from sklearn.preprocessing import LabelEncoder\n",
    "from collections import defaultdict\n",
    "d = defaultdict(LabelEncoder)\n",
    "df_obj = df_obj.apply(lambda x: d[x.name].fit_transform(x.astype(str)))"
   ]
  },
  {
   "cell_type": "code",
   "execution_count": 12,
   "metadata": {},
   "outputs": [],
   "source": [
    "# Data partition\n",
    "df2 = pd.concat([df_obj, df_num], axis=1)\n",
    "X = df2\n",
    "y = df['Price_euros']\n",
    "\n",
    "from sklearn.model_selection import train_test_split\n",
    "X_train, X_test, y_train, y_test = train_test_split(X, y, test_size = 0.2,\n",
    "                                                   shuffle = True, random_state = randomstate)"
   ]
  },
  {
   "cell_type": "code",
   "execution_count": 13,
   "metadata": {},
   "outputs": [],
   "source": [
    "#Build DTR model\n",
    "from sklearn.tree import DecisionTreeRegressor as DTR\n",
    "my_dtr = DTR(random_state = randomstate).fit(X_train, y_train)"
   ]
  },
  {
   "cell_type": "code",
   "execution_count": 14,
   "metadata": {},
   "outputs": [
    {
     "name": "stdout",
     "output_type": "stream",
     "text": [
      "                    Importance\n",
      "Column3           8.429962e-01\n",
      "Column2           1.569681e-01\n",
      "Memory            8.714902e-06\n",
      "CPU4              8.683437e-06\n",
      "ScreenResolution  5.871312e-06\n",
      "Inches            3.048239e-06\n",
      "Ram (GB)          2.177107e-06\n",
      "Weight (Kg)       2.050149e-06\n",
      "Product           1.753236e-06\n",
      "CPU5              1.364105e-06\n",
      "GPU2              8.341165e-07\n",
      "Company           7.573711e-07\n",
      "TypeName          3.580726e-07\n",
      "CPU3              6.838991e-08\n",
      "GPU1              5.367772e-08\n"
     ]
    }
   ],
   "source": [
    "feats = {}\n",
    "for feature, importance in zip(X.columns, my_dtr.feature_importances_):\n",
    "    feats[feature] = importance #add the name/value pair \n",
    "importances = pd.DataFrame.from_dict(feats, orient='index').rename(columns={0: 'Importance'})\n",
    "top15import = importances.sort_values(by='Importance',ascending=False).head(15)\n",
    "print(top15import)"
   ]
  },
  {
   "cell_type": "markdown",
   "metadata": {},
   "source": [
    "<div class=\"alert alert-block alert-info\">\n",
    "<b>What do you observe?\n",
    "</div>"
   ]
  },
  {
   "cell_type": "markdown",
   "metadata": {},
   "source": [
    "Your observations:\n",
    "1. high importance columns are potential target leakages\n",
    "2. high importance means strong relationship with target"
   ]
  },
  {
   "cell_type": "markdown",
   "metadata": {},
   "source": [
    "<div class=\"alert alert-block alert-info\">\n",
    "<b>Try out PI calculation on your own.</b>   \n",
    "    \n",
    "    Do you have the same insights?\n",
    "    \n",
    "</div>"
   ]
  },
  {
   "cell_type": "code",
   "execution_count": 15,
   "metadata": {},
   "outputs": [
    {
     "name": "stdout",
     "output_type": "stream",
     "text": [
      "             Feature    Importance\n",
      "15           Column3  9.871282e-01\n",
      "14           Column2  4.881709e-01\n",
      "17          Ram (GB)  1.559224e-05\n",
      "0            Company  4.475744e-06\n",
      "16            Inches  1.758249e-06\n",
      "12              CPU4  1.056795e-06\n",
      "3   ScreenResolution  9.484438e-07\n",
      "13              CPU5  7.745752e-07\n",
      "18       Weight (Kg)  4.485456e-07\n",
      "2           TypeName  2.979027e-07\n",
      "10              CPU2  0.000000e+00\n",
      "9                CPU  0.000000e+00\n",
      "8              OpSys  0.000000e+00\n",
      "7               GPU3  0.000000e+00\n",
      "19   Extend Warranty  0.000000e+00\n"
     ]
    }
   ],
   "source": [
    "from sklearn.tree import DecisionTreeRegressor\n",
    "from sklearn.model_selection import train_test_split\n",
    "from sklearn.metrics import mean_squared_error\n",
    "from sklearn.inspection import permutation_importance\n",
    "\n",
    "# Split the data\n",
    "X_train, X_test, y_train, y_test = train_test_split(X, y, test_size=0.2, shuffle=True, random_state=randomstate)\n",
    "\n",
    "# Build the Decision Tree Regressor (DTR) model\n",
    "my_dtr = DecisionTreeRegressor(random_state=randomstate).fit(X_train, y_train)\n",
    "\n",
    "# Calculate permutation importances\n",
    "perm_importances = permutation_importance(my_dtr, X_test, y_test, n_repeats=30, random_state=randomstate)\n",
    "\n",
    "# Get the feature importances\n",
    "importances = pd.DataFrame({'Feature': X.columns, 'Importance': perm_importances.importances_mean})\n",
    "\n",
    "# Sort and display the top 15 most important features\n",
    "top15import = importances.sort_values(by='Importance', ascending=False).head(15)\n",
    "print(top15import)"
   ]
  },
  {
   "cell_type": "markdown",
   "metadata": {},
   "source": [
    "<div class=\"alert alert-block alert-warning\">\n",
    "<b>Note that we will use FI to help us in Features Engineering and making the model more lightweight in the later Practicals. </b>\n",
    "\n",
    "</div>"
   ]
  },
  {
   "cell_type": "markdown",
   "metadata": {},
   "source": [
    "### 1.3 Visualisation"
   ]
  },
  {
   "cell_type": "code",
   "execution_count": 16,
   "metadata": {},
   "outputs": [
    {
     "name": "stdout",
     "output_type": "stream",
     "text": [
      "|--- Column3 <= 1308.55\n",
      "|   |--- Column2 <= 84.25\n",
      "|   |   |--- Column2 <= 27.33\n",
      "|   |   |   |--- Column2 <= 19.08\n",
      "|   |   |   |   |--- Column3 <= 274.55\n",
      "|   |   |   |   |   |--- Column3 <= 222.30\n",
      "|   |   |   |   |   |   |--- truncated branch of depth 5\n",
      "|   |   |   |   |   |--- Column3 >  222.30\n",
      "|   |   |   |   |   |   |--- truncated branch of depth 7\n",
      "|   |   |   |   |--- Column3 >  274.55\n",
      "|   |   |   |   |   |--- Column3 <= 319.20\n",
      "|   |   |   |   |   |   |--- truncated branch of depth 6\n",
      "|   |   |   |   |   |--- Column3 >  319.20\n",
      "|   |   |   |   |   |   |--- truncated branch of depth 5\n",
      "|   |   |   |--- Column2 >  19.08\n",
      "|   |   |   |   |--- Column3 <= 439.38\n",
      "|   |   |   |   |   |--- Column3 <= 401.38\n",
      "|   |   |   |   |   |   |--- truncated branch of depth 6\n",
      "|   |   |   |   |   |--- Column3 >  401.38\n",
      "|   |   |   |   |   |   |--- truncated branch of depth 6\n",
      "|   |   |   |   |--- Column3 >  439.38\n",
      "|   |   |   |   |   |--- Column2 <= 25.75\n",
      "|   |   |   |   |   |   |--- truncated branch of depth 7\n",
      "|   |   |   |   |   |--- Column2 >  25.75\n",
      "|   |   |   |   |   |   |--- truncated branch of depth 6\n",
      "|   |   |--- Column2 >  27.33\n",
      "|   |   |   |--- Column2 <= 69.70\n",
      "|   |   |   |   |--- Column3 <= 562.70\n",
      "|   |   |   |   |   |--- Column2 <= 58.78\n",
      "|   |   |   |   |   |   |--- truncated branch of depth 6\n",
      "|   |   |   |   |   |--- Column2 >  58.78\n",
      "|   |   |   |   |   |   |--- truncated branch of depth 7\n",
      "|   |   |   |   |--- Column3 >  562.70\n",
      "|   |   |   |   |   |--- Column3 <= 599.17\n",
      "|   |   |   |   |   |   |--- truncated branch of depth 8\n",
      "|   |   |   |   |   |--- Column3 >  599.17\n",
      "|   |   |   |   |   |   |--- truncated branch of depth 6\n",
      "|   |   |   |--- Column2 >  69.70\n",
      "|   |   |   |   |--- Column3 <= 689.31\n",
      "|   |   |   |   |   |--- Column2 <= 72.50\n",
      "|   |   |   |   |   |   |--- truncated branch of depth 5\n",
      "|   |   |   |   |   |--- Column2 >  72.50\n",
      "|   |   |   |   |   |   |--- truncated branch of depth 6\n",
      "|   |   |   |   |--- Column3 >  689.31\n",
      "|   |   |   |   |   |--- Column3 <= 727.65\n",
      "|   |   |   |   |   |   |--- truncated branch of depth 8\n",
      "|   |   |   |   |   |--- Column3 >  727.65\n",
      "|   |   |   |   |   |   |--- truncated branch of depth 6\n",
      "|   |--- Column2 >  84.25\n",
      "|   |   |--- Column2 <= 113.27\n",
      "|   |   |   |--- Column2 <= 99.40\n",
      "|   |   |   |   |--- Column3 <= 832.95\n",
      "|   |   |   |   |   |--- Column2 <= 88.25\n",
      "|   |   |   |   |   |   |--- truncated branch of depth 6\n",
      "|   |   |   |   |   |--- Column2 >  88.25\n",
      "|   |   |   |   |   |   |--- truncated branch of depth 7\n",
      "|   |   |   |   |--- Column3 >  832.95\n",
      "|   |   |   |   |   |--- Column3 <= 868.90\n",
      "|   |   |   |   |   |   |--- truncated branch of depth 5\n",
      "|   |   |   |   |   |--- Column3 >  868.90\n",
      "|   |   |   |   |   |   |--- truncated branch of depth 5\n",
      "|   |   |   |--- Column2 >  99.40\n",
      "|   |   |   |   |--- Column3 <= 956.02\n",
      "|   |   |   |   |   |--- Column2 <= 102.25\n",
      "|   |   |   |   |   |   |--- truncated branch of depth 6\n",
      "|   |   |   |   |   |--- Column2 >  102.25\n",
      "|   |   |   |   |   |   |--- truncated branch of depth 7\n",
      "|   |   |   |   |--- Column3 >  956.02\n",
      "|   |   |   |   |   |--- Column3 <= 995.40\n",
      "|   |   |   |   |   |   |--- truncated branch of depth 6\n",
      "|   |   |   |   |   |--- Column3 >  995.40\n",
      "|   |   |   |   |   |   |--- truncated branch of depth 6\n",
      "|   |   |--- Column2 >  113.27\n",
      "|   |   |   |--- Column2 <= 127.60\n",
      "|   |   |   |   |--- Column2 <= 121.15\n",
      "|   |   |   |   |   |--- Column3 <= 1056.60\n",
      "|   |   |   |   |   |   |--- truncated branch of depth 7\n",
      "|   |   |   |   |   |--- Column3 >  1056.60\n",
      "|   |   |   |   |   |   |--- truncated branch of depth 6\n",
      "|   |   |   |   |--- Column2 >  121.15\n",
      "|   |   |   |   |   |--- Column2 <= 123.90\n",
      "|   |   |   |   |   |   |--- truncated branch of depth 4\n",
      "|   |   |   |   |   |--- Column2 >  123.90\n",
      "|   |   |   |   |   |   |--- truncated branch of depth 5\n",
      "|   |   |   |--- Column2 >  127.60\n",
      "|   |   |   |   |--- Column2 <= 135.40\n",
      "|   |   |   |   |   |--- Column3 <= 1187.10\n",
      "|   |   |   |   |   |   |--- truncated branch of depth 7\n",
      "|   |   |   |   |   |--- Column3 >  1187.10\n",
      "|   |   |   |   |   |   |--- truncated branch of depth 5\n",
      "|   |   |   |   |--- Column2 >  135.40\n",
      "|   |   |   |   |   |--- Column3 <= 1276.05\n",
      "|   |   |   |   |   |   |--- truncated branch of depth 7\n",
      "|   |   |   |   |   |--- Column3 >  1276.05\n",
      "|   |   |   |   |   |   |--- truncated branch of depth 4\n",
      "|--- Column3 >  1308.55\n",
      "|   |--- Column3 <= 2129.40\n",
      "|   |   |--- Column3 <= 1650.08\n",
      "|   |   |   |--- Column2 <= 163.40\n",
      "|   |   |   |   |--- Column2 <= 154.40\n",
      "|   |   |   |   |   |--- Column2 <= 152.01\n",
      "|   |   |   |   |   |   |--- truncated branch of depth 7\n",
      "|   |   |   |   |   |--- Column2 >  152.01\n",
      "|   |   |   |   |   |   |--- truncated branch of depth 4\n",
      "|   |   |   |   |--- Column2 >  154.40\n",
      "|   |   |   |   |   |--- Column2 <= 158.15\n",
      "|   |   |   |   |   |   |--- truncated branch of depth 3\n",
      "|   |   |   |   |   |--- Column2 >  158.15\n",
      "|   |   |   |   |   |   |--- truncated branch of depth 5\n",
      "|   |   |   |--- Column2 >  163.40\n",
      "|   |   |   |   |--- Column3 <= 1541.25\n",
      "|   |   |   |   |   |--- Column3 <= 1507.05\n",
      "|   |   |   |   |   |   |--- truncated branch of depth 5\n",
      "|   |   |   |   |   |--- Column3 >  1507.05\n",
      "|   |   |   |   |   |   |--- truncated branch of depth 4\n",
      "|   |   |   |   |--- Column3 >  1541.25\n",
      "|   |   |   |   |   |--- Column2 <= 177.65\n",
      "|   |   |   |   |   |   |--- truncated branch of depth 6\n",
      "|   |   |   |   |   |--- Column2 >  177.65\n",
      "|   |   |   |   |   |   |--- truncated branch of depth 4\n",
      "|   |   |--- Column3 >  1650.08\n",
      "|   |   |   |--- Column2 <= 207.75\n",
      "|   |   |   |   |--- Column3 <= 1745.10\n",
      "|   |   |   |   |   |--- Column3 <= 1693.89\n",
      "|   |   |   |   |   |   |--- truncated branch of depth 5\n",
      "|   |   |   |   |   |--- Column3 >  1693.89\n",
      "|   |   |   |   |   |   |--- truncated branch of depth 6\n",
      "|   |   |   |   |--- Column3 >  1745.10\n",
      "|   |   |   |   |   |--- Column2 <= 199.10\n",
      "|   |   |   |   |   |   |--- truncated branch of depth 5\n",
      "|   |   |   |   |   |--- Column2 >  199.10\n",
      "|   |   |   |   |   |   |--- truncated branch of depth 7\n",
      "|   |   |   |--- Column2 >  207.75\n",
      "|   |   |   |   |--- Column3 <= 1991.25\n",
      "|   |   |   |   |   |--- Column2 <= 214.25\n",
      "|   |   |   |   |   |   |--- truncated branch of depth 4\n",
      "|   |   |   |   |   |--- Column2 >  214.25\n",
      "|   |   |   |   |   |   |--- truncated branch of depth 3\n",
      "|   |   |   |   |--- Column3 >  1991.25\n",
      "|   |   |   |   |   |--- Column3 <= 2061.45\n",
      "|   |   |   |   |   |   |--- truncated branch of depth 6\n",
      "|   |   |   |   |   |--- Column3 >  2061.45\n",
      "|   |   |   |   |   |   |--- truncated branch of depth 5\n",
      "|   |--- Column3 >  2129.40\n",
      "|   |   |--- Column3 <= 3993.30\n",
      "|   |   |   |--- Column3 <= 2626.65\n",
      "|   |   |   |   |--- Column2 <= 261.20\n",
      "|   |   |   |   |   |--- Column3 <= 2229.90\n",
      "|   |   |   |   |   |   |--- truncated branch of depth 5\n",
      "|   |   |   |   |   |--- Column3 >  2229.90\n",
      "|   |   |   |   |   |   |--- truncated branch of depth 4\n",
      "|   |   |   |   |--- Column2 >  261.20\n",
      "|   |   |   |   |   |--- Column3 <= 2465.55\n",
      "|   |   |   |   |   |   |--- truncated branch of depth 4\n",
      "|   |   |   |   |   |--- Column3 >  2465.55\n",
      "|   |   |   |   |   |   |--- truncated branch of depth 5\n",
      "|   |   |   |--- Column3 >  2626.65\n",
      "|   |   |   |   |--- Column3 <= 3059.10\n",
      "|   |   |   |   |   |--- Column3 <= 2811.32\n",
      "|   |   |   |   |   |   |--- truncated branch of depth 4\n",
      "|   |   |   |   |   |--- Column3 >  2811.32\n",
      "|   |   |   |   |   |   |--- truncated branch of depth 3\n",
      "|   |   |   |   |--- Column3 >  3059.10\n",
      "|   |   |   |   |   |--- Column3 <= 3397.23\n",
      "|   |   |   |   |   |   |--- truncated branch of depth 3\n",
      "|   |   |   |   |   |--- Column3 >  3397.23\n",
      "|   |   |   |   |   |   |--- truncated branch of depth 2\n",
      "|   |   |--- Column3 >  3993.30\n",
      "|   |   |   |--- Column2 <= 519.90\n",
      "|   |   |   |   |--- value: [4899.00]\n",
      "|   |   |   |--- Column2 >  519.90\n",
      "|   |   |   |   |--- Column3 <= 5219.10\n",
      "|   |   |   |   |   |--- value: [5499.00]\n",
      "|   |   |   |   |--- Column3 >  5219.10\n",
      "|   |   |   |   |   |--- value: [6099.00]\n",
      "\n"
     ]
    }
   ],
   "source": [
    "#Visualise the dtr\n",
    "text_representation = tree.export_text(my_dtr,feature_names=list(X_train.columns), max_depth=5)\n",
    "print(text_representation)"
   ]
  },
  {
   "cell_type": "markdown",
   "metadata": {},
   "source": [
    "<div class=\"alert alert-block alert-info\">\n",
    "<b>What do you observe?\n",
    "</div>"
   ]
  },
  {
   "cell_type": "markdown",
   "metadata": {},
   "source": [
    "Your observations:\n",
    "1. for most branches, column 3 is the first split. This makes it highly overfitted hence its highly suspected target leakage.\n",
    "2. This means the col 3 is likely derived from target."
   ]
  },
  {
   "cell_type": "markdown",
   "metadata": {},
   "source": [
    "### 1.4 Metrics Performance"
   ]
  },
  {
   "cell_type": "code",
   "execution_count": 17,
   "metadata": {},
   "outputs": [],
   "source": [
    "#make predictions\n",
    "y_pred_dtr_train=my_dtr.predict(X_train)\n",
    "y_pred_dtr_test=my_dtr.predict(X_test)"
   ]
  },
  {
   "cell_type": "code",
   "execution_count": 18,
   "metadata": {},
   "outputs": [
    {
     "name": "stdout",
     "output_type": "stream",
     "text": [
      "*****Training Set*****\n",
      "MSE: 0.00\n",
      "R2: 1.00\n",
      "MAPE: 0.00\n",
      "MAE: 0.00\n",
      "*****Validation Set*****\n",
      "MSE: 25.60\n",
      "R2: 1.00\n",
      "MAPE: 0.00\n",
      "MAE: 2.53\n"
     ]
    }
   ],
   "source": [
    "print(\"*****Training Set*****\")\n",
    "print(\"MSE: %.2f\" % mean_squared_error(y_train, y_pred_dtr_train))\n",
    "print(\"R2: %.2f\" % r2_score(y_train, y_pred_dtr_train))\n",
    "print(\"MAPE: %.2f\" % mean_absolute_percentage_error(y_train, y_pred_dtr_train))\n",
    "print(\"MAE: %.2f\" % mean_absolute_error(y_train, y_pred_dtr_train))\n",
    "print(\"*****Validation Set*****\")\n",
    "print(\"MSE: %.2f\" % mean_squared_error(y_test, y_pred_dtr_test))\n",
    "print(\"R2: %.2f\" % r2_score(y_test, y_pred_dtr_test))\n",
    "print(\"MAPE: %.2f\" % mean_absolute_percentage_error(y_test, y_pred_dtr_test))\n",
    "print(\"MAE: %.2f\" % mean_absolute_error(y_test, y_pred_dtr_test))"
   ]
  },
  {
   "cell_type": "markdown",
   "metadata": {},
   "source": [
    "<div class=\"alert alert-block alert-info\">\n",
    "<b>What do you observe?\n",
    "</div>"
   ]
  },
  {
   "cell_type": "markdown",
   "metadata": {},
   "source": [
    "Your observations:\n",
    "1. Overfitted model as R2 is perfect score.\n",
    "2. There is 0 error for training set."
   ]
  },
  {
   "cell_type": "markdown",
   "metadata": {},
   "source": [
    "## 2. Summary\n",
    "We have successfully performed the following:\n",
    "- understand what is target leakage\n",
    "- list the ways to detect target leakage\n",
    "- apply four different methods to detect target leakge. "
   ]
  },
  {
   "cell_type": "markdown",
   "metadata": {},
   "source": [
    "### <center>Remember to save your work <center>"
   ]
  }
 ],
 "metadata": {
  "kernelspec": {
   "display_name": "Python 3 (ipykernel)",
   "language": "python",
   "name": "python3"
  },
  "language_info": {
   "codemirror_mode": {
    "name": "ipython",
    "version": 3
   },
   "file_extension": ".py",
   "mimetype": "text/x-python",
   "name": "python",
   "nbconvert_exporter": "python",
   "pygments_lexer": "ipython3",
   "version": "3.9.12"
  }
 },
 "nbformat": 4,
 "nbformat_minor": 4
}
